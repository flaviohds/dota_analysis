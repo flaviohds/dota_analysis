{
  "nbformat": 4,
  "nbformat_minor": 0,
  "metadata": {
    "colab": {
      "name": "dota_update_data.ipynb",
      "provenance": [],
      "collapsed_sections": [],
      "authorship_tag": "ABX9TyP6cL79FcNzekvnThVvu931",
      "include_colab_link": true
    },
    "kernelspec": {
      "name": "python3",
      "display_name": "Python 3"
    },
    "language_info": {
      "name": "python"
    }
  },
  "cells": [
    {
      "cell_type": "markdown",
      "metadata": {
        "id": "view-in-github",
        "colab_type": "text"
      },
      "source": [
        "<a href=\"https://colab.research.google.com/github/flaviohds/dota_analysis/blob/branch1/dota_update_data.ipynb\" target=\"_parent\"><img src=\"https://colab.research.google.com/assets/colab-badge.svg\" alt=\"Open In Colab\"/></a>"
      ]
    },
    {
      "cell_type": "code",
      "metadata": {
        "id": "OYbm-5rSSsoV"
      },
      "source": [
        "import pandas as pd\n",
        "import time\n",
        "from datetime import datetime\n",
        "import pytz\n",
        "from numpy import NaN"
      ],
      "execution_count": null,
      "outputs": []
    },
    {
      "cell_type": "code",
      "metadata": {
        "id": "t7cJq2CIuKAL"
      },
      "source": [
        "!pip install selenium # mimics user clicks\n",
        "!apt-get update # to update ubuntu to correctly run apt install\n",
        "!apt install chromium-chromedriver #install chrome on the scrapper server\n",
        "\n",
        "import sys\n",
        "sys.path.insert(0,'/usr/lib/chromium-browser/chromedriver')\n",
        "\n",
        "from selenium import webdriver\n",
        "\n",
        "#chrome options that reduces bugs and variability\n",
        "chrome_options = webdriver.ChromeOptions() \n",
        "chrome_options.add_argument('--headless')\n",
        "chrome_options.add_argument('--no-sandbox')\n",
        "chrome_options.add_argument('--disable-dev-shm-usage')\n",
        "chrome_options.add_argument('--start-maximized')\n",
        "chrome_options.add_argument('user-agent=Mozilla/5.0 (Windows NT 6.3; WOW64) AppleWebKit/537.36 (KHTML, like Gecko) Chrome/59.0.3071.115 Safari/537.36')\n",
        "chrome_options.add_argument('--ignore-certificate-errors')\n",
        "wd = webdriver.Chrome('chromedriver',chrome_options=chrome_options, service_args=['--verbose', '--log-path=/tmp/chromedriver.log'])"
      ],
      "execution_count": null,
      "outputs": []
    },
    {
      "cell_type": "code",
      "metadata": {
        "id": "WqGAGceVbapL"
      },
      "source": [
        "from google.colab import drive\n",
        "drive.mount('/content/drive/') #mount drive on google drive\n",
        "\n",
        "import os\n",
        "os.chdir(\"drive/My Drive/dota\") #map the folder on google drive"
      ],
      "execution_count": null,
      "outputs": []
    },
    {
      "cell_type": "code",
      "metadata": {
        "id": "vijWT423Qjjy"
      },
      "source": [
        "#function updates heroes and abilities/spells/skills names from www.dota2.com/heroes\n",
        "#updates up to hero_input\n",
        "def update_hero_list(last_hero='ZEUS'):\n",
        "  print('updating hero names')\n",
        "  print('expected time: ~12mins')\n",
        "  wd.delete_all_cookies()\n",
        "  wd.get(\"https://www.dota2.com/hero/abaddon\")\n",
        "  wd.page_source;\n",
        "  time.sleep(2)\n",
        "  \n",
        "  hero_list=[]\n",
        "  is_last_hero=False\n",
        "  spells_row=[]\n",
        "  #loop to iterate heroes\n",
        "  while is_last_hero==False:\n",
        "    hero_name=wd.find_element('xpath','/html/body/div[2]/div/div/div[2]/div[5]/div[2]')\n",
        "\n",
        "    if hero_name.text==last_hero:\n",
        "      is_last_hero=True\n",
        "    hero_row=[]\n",
        "    hero_row.append(hero_name.text)\n",
        "\n",
        "    j=0\n",
        "    is_last_spell=False\n",
        "    spell_row=[]\n",
        "    #loop to iterate spells\n",
        "    while is_last_spell==False:\n",
        "      spell_name=wd.find_element('xpath','//*[@id=\"dota_react_root\"]/div/div/div[4]/div[1]/div[2]/div[2]/div/div[1]/div/div[1]')\n",
        "      spell_row.append(spell_name.text)\n",
        "\n",
        "      try: #check if the next spell button exists\n",
        "        ab_xpath='//*[@id=\"dota_react_root\"]/div/div/div[4]/div[1]/div[2]/div[1]/div[2]/div['+str(j+2)+']'\n",
        "        next_spell_b=wd.find_element('xpath',ab_xpath)\n",
        "        next_spell_b.click()\n",
        "      except: #if not, set the loop to end\n",
        "        is_last_spell=True\n",
        "      time.sleep(0.5)\n",
        "      j+=1\n",
        "\n",
        "    spell_row=list(dict.fromkeys(spell_row)) #removes duplicates\n",
        "    hero_row.extend(spell_row)\n",
        "    hero_list.append(hero_row)\n",
        "    next_hero_b=wd.find_element('xpath','/html/body/div[2]/div/div/div[2]/div[2]/a[3]') #assign the next hero button\n",
        "    next_hero_b.click() #click the next hero button\n",
        "    time.sleep(1)\n",
        "\n",
        "  df_hero_list=pd.DataFrame(hero_list) #creates the dataframe\n",
        "  n_skills=df_hero_list.shape[1]-1 #checks the dimension of the dataframe to get the length of the hero with the highest number of spells\n",
        "  columns_names=['hero'] #first column is the hero name\n",
        "  for i in range(n_skills):\n",
        "    columns_names.append('skill '+str(i+1)) #creates a list of columns names based with 'hero','skill 1','skill 2',...\n",
        "  df_hero_list.columns=columns_names #attributes the columns names to the header\n",
        "  df_hero_list.to_excel('hero_list.xlsx')"
      ],
      "execution_count": null,
      "outputs": []
    },
    {
      "cell_type": "code",
      "source": [
        "#function updates the skills on the skills_list file\n",
        "def update_skills_list():\n",
        "  df_hero_list=pd.read_excel('hero_list.xlsx',index_col=0)\n",
        "  skills_list=[]\n",
        "\n",
        "  for i in df_hero_list.index: #iterates rows\n",
        "    for j in df_hero_list.columns: #iterates columns\n",
        "      if type(df_hero_list[j][i])==str: #checks if its a valid cell (not a NaN cell)\n",
        "        skills_list.append(df_hero_list[j][i])\n",
        "  df_skills_list=pd.DataFrame(skills_list)\n",
        "\n",
        "  blacklist=['SPIRITS IN','SPIRITS OUT','ATTRIBUTE SHIFT (STRENGTH GAIN)'] #skills to remove from the list\n",
        "  mask=df_skills_list.isin(blacklist)[0] #mask of where the blacklisted skills are ([0] to convert to a pandas.series)\n",
        "  blacklist_indexes=df_skills_list[mask].index #indexes of where the blacklisted skills are\n",
        "  df_skills_list=df_skills_list.drop(blacklist_indexes) #remove the blacklisted skills\n",
        "  df_skills_list=df_skills_list.reset_index(drop=True)\n",
        "  df_skills_list.to_excel('skills_list.xlsx')"
      ],
      "metadata": {
        "id": "BD0D1A_nhgPk"
      },
      "execution_count": null,
      "outputs": []
    },
    {
      "cell_type": "code",
      "source": [
        "#function copies the attributes from the old skills_list file to the new one\n",
        "#used when new skills/heroes are added\n",
        "#make sure that the used dataframes do not have duplicated indexes (common when exporting and importing dataframes from files)\n",
        "def update_skill_df(df_new, df_old, sort=True):\n",
        "  df=df_new\n",
        "  mask=df_new.isin(list(df_old[0])) #masks what skills are re-usable\n",
        "  indexes_to_update=df_new[mask[0]].index #gets their indexes\n",
        "  for i in indexes_to_update: #for each of the marked skills\n",
        "    skill=df_new.loc[i,0] #checks the skill name\n",
        "    row=df_old[df_old[0]==skill] #search the skill name and gets the row (with the attributes values) from the old dataframe\n",
        "    row.index=[i] #corrects its index with the value in the new dataframe\n",
        "    df=df.drop(i) #erases the \"empty\" row in the new dataframe\n",
        "    df=pd.concat([df,row]) #ads the \"filled\" row to the new dataframe\n",
        "  if sort==True: #not sorting the dataframe means the new spells (with pending attributes assignments) will all be at the top\n",
        "    df=df.sort_index() #sorts the dataframe if wanted\n",
        "  return df"
      ],
      "metadata": {
        "id": "7P3cD53GRVdS"
      },
      "execution_count": null,
      "outputs": []
    },
    {
      "cell_type": "code",
      "metadata": {
        "id": "ano10t-2DEFq"
      },
      "source": [
        "#function updates hero win and pickrates from www.dotabuff.com\n",
        "def update_win_pick():\n",
        "  print('updating win and pick rates')\n",
        "  print('expected time: ~1min')\n",
        "  wd.delete_all_cookies()\n",
        "  wd.get(\"https://www.dotabuff.com/heroes/trends\")\n",
        "  wd.page_source;\n",
        "  time.sleep(2)\n",
        "\n",
        "  data_coord=[2,3,4,6,7,8]\n",
        "  data=[]\n",
        "\n",
        "  df_winpick=pd.read_excel('hero_list.xlsx',index_col=0,usecols=[1])\n",
        "  total_heroes=df_winpick.shape[0]\n",
        "\n",
        "  order_name_b=wd.find_element('xpath','/html/body/div[2]/div[2]/div[3]/div[4]/section/article/table/thead/tr[3]/th[1]') #\n",
        "  order_name_b.click()  #orders table by hero name\n",
        "\n",
        "  for j in range(total_heroes):\n",
        "    data_row=[]\n",
        "    for i in range(len(data_coord)):\n",
        "      xpath='/html/body/div[2]/div[2]/div[3]/div[4]/section/article/table/tbody/tr['+str(j+1)+']/td['+str(data_coord[i])+']'\n",
        "      html_element=wd.find_element('xpath',xpath)\n",
        "      try:\n",
        "        data_row+=[float(html_element.text.replace('%','').replace('+',''))] #removes % and + signs, converts to float and adds to the list\n",
        "      except:\n",
        "        data_row+=[0]\n",
        "\n",
        "    data.append(data_row)\n",
        "\n",
        "  df_winpick[['WIN_RATE_OLD','WIN_RATE','WIN_RATE_VAR','PICK_RATE_OLD','PICK_RATE','PICK_RATE_VAR']]=data\n",
        "\n",
        "  # xpaths. last checked 23 june 2022\n",
        "  # first hero\n",
        "  # /html/body/div[2]/div[2]/div[3]/div[4]/section/article/table/tbody/tr[1]/td[2]  old_win\n",
        "  # /html/body/div[2]/div[2]/div[3]/div[4]/section/article/table/tbody/tr[1]/td[3]  new_win\n",
        "  # /html/body/div[2]/div[2]/div[3]/div[4]/section/article/table/tbody/tr[1]/td[4]  change_win\n",
        "  # /html/body/div[2]/div[2]/div[3]/div[4]/section/article/table/tbody/tr[1]/td[6]  old_pick\n",
        "  # /html/body/div[2]/div[2]/div[3]/div[4]/section/article/table/tbody/tr[1]/td[7]  new_pick\n",
        "  # /html/body/div[2]/div[2]/div[3]/div[4]/section/article/table/tbody/tr[1]/td[8]  change_pick\n",
        "  # second hero\n",
        "  # /html/body/div[2]/div[2]/div[3]/div[4]/section/article/table/tbody/tr[2]/td[2]  old_win\n",
        "  # /html/body/div[2]/div[2]/div[3]/div[4]/section/article/table/tbody/tr[2]/td[3]  new_win\n",
        "\n",
        "  timestr=datetime.now(pytz.timezone('America/Sao_Paulo')).strftime('%Y%m%d') #time in BRT(GMT-3): year month day\n",
        "  df_winpick.to_excel('winpick'+timestr+'.xlsx')"
      ],
      "execution_count": null,
      "outputs": []
    },
    {
      "cell_type": "code",
      "metadata": {
        "id": "mVDQk314dtW2"
      },
      "source": [
        "# update_hero_list()\n",
        "# update_skills_list()\n",
        "update_win_pick()"
      ],
      "execution_count": null,
      "outputs": []
    },
    {
      "cell_type": "code",
      "source": [
        "#cell to test update_skill_df\n",
        "df_novo=pd.read_excel('skills_list_novo.xlsx',index_col=0)\n",
        "df_velho=pd.read_excel('skills_list_velho.xlsx',index_col=0)\n",
        "\n",
        "df_updated=update_skill_df(df_novo,df_velho,False)\n",
        "df_updated.to_excel('skills_list_updated.xlsx')"
      ],
      "metadata": {
        "id": "Pnkg6taOWvLM"
      },
      "execution_count": null,
      "outputs": []
    },
    {
      "cell_type": "code",
      "metadata": {
        "id": "5KF6J6YfQ4d3"
      },
      "source": [
        "#to take a screenshot from chrome\n",
        "\n",
        "# from PIL import Image\n",
        "# from io import BytesIO\n",
        "\n",
        "# figure=wd.get_screenshot_as_png()\n",
        "# im = Image.open(BytesIO(figure))\n",
        "# im"
      ],
      "execution_count": null,
      "outputs": []
    },
    {
      "cell_type": "code",
      "source": [
        ""
      ],
      "metadata": {
        "id": "UX3mZOrE_y1W"
      },
      "execution_count": null,
      "outputs": []
    }
  ]
}