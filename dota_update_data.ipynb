{
  "nbformat": 4,
  "nbformat_minor": 0,
  "metadata": {
    "colab": {
      "name": "dota_update_data.ipynb",
      "provenance": [],
      "collapsed_sections": [],
      "authorship_tag": "ABX9TyPiKHC02otwRd/zCEM4I9NL",
      "include_colab_link": true
    },
    "kernelspec": {
      "name": "python3",
      "display_name": "Python 3"
    },
    "language_info": {
      "name": "python"
    }
  },
  "cells": [
    {
      "cell_type": "markdown",
      "metadata": {
        "id": "view-in-github",
        "colab_type": "text"
      },
      "source": [
        "<a href=\"https://colab.research.google.com/github/flaviohds/dota_analysis/blob/branch1/dota_update_data.ipynb\" target=\"_parent\"><img src=\"https://colab.research.google.com/assets/colab-badge.svg\" alt=\"Open In Colab\"/></a>"
      ]
    },
    {
      "cell_type": "code",
      "metadata": {
        "id": "OYbm-5rSSsoV"
      },
      "source": [
        "import pandas as pd\n",
        "import time"
      ],
      "execution_count": 1,
      "outputs": []
    },
    {
      "cell_type": "code",
      "metadata": {
        "id": "t7cJq2CIuKAL"
      },
      "source": [
        "!pip install selenium # mimics user clicks\n",
        "!apt-get update # to update ubuntu to correctly run apt install\n",
        "!apt install chromium-chromedriver #install chrome on the scrapper server\n",
        "\n",
        "import sys\n",
        "sys.path.insert(0,'/usr/lib/chromium-browser/chromedriver')\n",
        "\n",
        "from selenium import webdriver\n",
        "\n",
        "#chrome options that reduces bugs and variability\n",
        "chrome_options = webdriver.ChromeOptions() \n",
        "chrome_options.add_argument('--headless')\n",
        "chrome_options.add_argument('--no-sandbox')\n",
        "chrome_options.add_argument('--disable-dev-shm-usage')\n",
        "chrome_options.add_argument('--start-maximized')\n",
        "chrome_options.add_argument('user-agent=Mozilla/5.0 (Windows NT 6.3; WOW64) AppleWebKit/537.36 (KHTML, like Gecko) Chrome/59.0.3071.115 Safari/537.36')\n",
        "chrome_options.add_argument('--ignore-certificate-errors')\n",
        "wd = webdriver.Chrome('chromedriver',chrome_options=chrome_options, service_args=['--verbose', '--log-path=/tmp/chromedriver.log'])"
      ],
      "execution_count": null,
      "outputs": []
    },
    {
      "cell_type": "code",
      "metadata": {
        "id": "WqGAGceVbapL"
      },
      "source": [
        "from google.colab import drive\n",
        "drive.mount('/content/drive/') #mount drive on google drive\n",
        "\n",
        "\n",
        "import os\n",
        "os.chdir(\"drive/My Drive/dota\") #map the folder on google drive"
      ],
      "execution_count": null,
      "outputs": []
    },
    {
      "cell_type": "code",
      "metadata": {
        "id": "vijWT423Qjjy"
      },
      "source": [
        "#function updates heroes and abilities/spells/skills names from www.dota2.com/heroes\n",
        "def update_hero_list():\n",
        "  print('updating hero names')\n",
        "  print('expected time: ~13mins 20s')\n",
        "  wd.delete_all_cookies()\n",
        "  wd.get(\"https://www.dota2.com/hero/abaddon\")\n",
        "  wd.page_source;\n",
        "  time.sleep(2)\n",
        "\n",
        "  hero_list=[]\n",
        "  last_hero=False\n",
        "  abilities=[]\n",
        "  #loop to iterate heroes\n",
        "  while last_hero==False:\n",
        "    hero_name=wd.find_element('xpath','/html/body/div[2]/div/div/div[2]/div[5]/div[2]')\n",
        "\n",
        "    if hero_name.text==\"DOOM\": #change to the last hero to update (actual last=ZEUS)\n",
        "      last_hero=True\n",
        "    hero_row=[]\n",
        "    hero_row.append(hero_name.text)\n",
        "\n",
        "    j=0\n",
        "    last_spell=False\n",
        "    #loop to iterate spells\n",
        "    while last_spell==False:\n",
        "      ability_name=wd.find_element('xpath','//*[@id=\"dota_react_root\"]/div/div/div[4]/div[1]/div[2]/div[2]/div/div[1]/div/div[1]')\n",
        "      hero_row.append(ability_name.text)\n",
        "\n",
        "      try: #check if the next ability button exists\n",
        "        ab_xpath='//*[@id=\"dota_react_root\"]/div/div/div[4]/div[1]/div[2]/div[1]/div[2]/div['+str(j+2)+']'\n",
        "        next_ability_b=wd.find_element('xpath',ab_xpath)\n",
        "        next_ability_b.click()\n",
        "      except: #if not, set the loop to end\n",
        "        last_spell=True\n",
        "      time.sleep(0.5)\n",
        "      j+=1\n",
        "\n",
        "    hero_row=list(dict.fromkeys(hero_row)) #removes duplicates\n",
        "    hero_list.append(hero_row)\n",
        "    next_hero_b=wd.find_element('xpath','/html/body/div[2]/div/div/div[2]/div[2]/a[3]')\n",
        "    next_hero_b.click()\n",
        "    time.sleep(1)\n",
        "\n",
        "\n",
        "  df=pd.DataFrame(hero_list)\n",
        "  df.to_excel(\"hero_list.xlsx\")\n",
        "\n",
        "  #(manually)  deal with:\n",
        "  #re-add doom ult -> extend() function on lists\n",
        "  #remove spirits in and out\n",
        "  #morphling (?)\n",
        "  "
      ],
      "execution_count": 7,
      "outputs": []
    },
    {
      "cell_type": "code",
      "metadata": {
        "id": "ano10t-2DEFq"
      },
      "source": [
        "#function updates hero win and pickrates from www.dotabuff.com\n",
        "def update_win_pick():\n",
        "  print('updating win and pick rates')\n",
        "  print('expected time: ~1min')\n",
        "  wd.delete_all_cookies()\n",
        "  wd.get(\"https://www.dotabuff.com/heroes/trends\")\n",
        "  wd.page_source;\n",
        "  time.sleep(2)\n",
        "\n",
        "  data_coord=[2,3,4,6,7,8]\n",
        "  data=[]\n",
        "\n",
        "  hero_df=pd.read_excel('hero_list.xlsx',usecols=[1])\n",
        "  total_heroes=hero_df.shape[0]\n",
        "\n",
        "  order_name_b=wd.find_element('xpath','/html/body/div[2]/div[2]/div[3]/div[4]/section/article/table/thead/tr[3]/th[1]') #\n",
        "  order_name_b.click()  #orders table by hero name\n",
        "\n",
        "  for j in range(total_heroes):\n",
        "    data_row=[]\n",
        "    for i in range(len(data_coord)):\n",
        "      xpath='/html/body/div[2]/div[2]/div[3]/div[4]/section/article/table/tbody/tr['+str(j+1)+']/td['+str(data_coord[i])+']'\n",
        "      html_element=wd.find_element('xpath',xpath)\n",
        "      try:\n",
        "        data_row+=[float(html_element.text.replace('%','').replace('+',''))] #removes % and + signs, converts to float and adds to the list\n",
        "      except:\n",
        "        data_row+=[0]\n",
        "\n",
        "    data.append(data_row)\n",
        "\n",
        "  hero_df=pd.read_excel('hero_list.xlsx',usecols=[1])\n",
        "  hero_df[['WIN_RATE_OLD','WIN_RATE','WIN_RATE_VAR','PICK_RATE_OLD','PICK_RATE','PICK_RATE_VAR']]=data\n",
        "\n",
        "\n",
        "  # xpaths. last checked 23 june 2022\n",
        "  # first hero\n",
        "  # /html/body/div[2]/div[2]/div[3]/div[4]/section/article/table/tbody/tr[1]/td[2]  old_win\n",
        "  # /html/body/div[2]/div[2]/div[3]/div[4]/section/article/table/tbody/tr[1]/td[3]  new_win\n",
        "  # /html/body/div[2]/div[2]/div[3]/div[4]/section/article/table/tbody/tr[1]/td[4]  change_win\n",
        "  # /html/body/div[2]/div[2]/div[3]/div[4]/section/article/table/tbody/tr[1]/td[6]  old_pick\n",
        "  # /html/body/div[2]/div[2]/div[3]/div[4]/section/article/table/tbody/tr[1]/td[7]  new_pick\n",
        "  # /html/body/div[2]/div[2]/div[3]/div[4]/section/article/table/tbody/tr[1]/td[8]  change_pick\n",
        "  # second hero\n",
        "  # /html/body/div[2]/div[2]/div[3]/div[4]/section/article/table/tbody/tr[2]/td[2]  ''\n",
        "  # /html/body/div[2]/div[2]/div[3]/div[4]/section/article/table/tbody/tr[2]/td[3]  ''\n",
        "\n",
        "  hero_df.to_excel(\"database.xlsx\")"
      ],
      "execution_count": 5,
      "outputs": []
    },
    {
      "cell_type": "code",
      "metadata": {
        "id": "mVDQk314dtW2",
        "colab": {
          "base_uri": "https://localhost:8080/"
        },
        "outputId": "34c1f5ba-a57a-430e-d21d-439fe1375429"
      },
      "source": [
        "update_hero_list()\n",
        "#update_win_pick()"
      ],
      "execution_count": 6,
      "outputs": [
        {
          "output_type": "stream",
          "name": "stdout",
          "text": [
            "updating hero names\n",
            "expected time: ~13mins 20s\n"
          ]
        }
      ]
    },
    {
      "cell_type": "code",
      "metadata": {
        "id": "5KF6J6YfQ4d3"
      },
      "source": [
        "#to take a screenshot from chrome\n",
        "\n",
        "# from PIL import Image\n",
        "# from io import BytesIO\n",
        "\n",
        "# figure=wd.get_screenshot_as_png()\n",
        "# im = Image.open(BytesIO(figure))\n",
        "# im"
      ],
      "execution_count": null,
      "outputs": []
    },
    {
      "cell_type": "code",
      "source": [
        ""
      ],
      "metadata": {
        "id": "xhT8SmEH9xxD"
      },
      "execution_count": null,
      "outputs": []
    }
  ]
}